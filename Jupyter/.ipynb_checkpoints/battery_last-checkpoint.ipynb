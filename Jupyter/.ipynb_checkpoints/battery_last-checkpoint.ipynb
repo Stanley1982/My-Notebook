{
 "cells": [
  {
   "cell_type": "markdown",
   "metadata": {
    "collapsed": true
   },
   "source": [
    "区分忙闲时，计算站点功耗影响"
   ]
  },
  {
   "cell_type": "code",
   "execution_count": null,
   "metadata": {
    "collapsed": true
   },
   "outputs": [],
   "source": [
    "import numpy as np\n",
    "import matplotlib.pyplot as plt"
   ]
  },
  {
   "cell_type": "code",
   "execution_count": 18,
   "metadata": {
    "collapsed": true
   },
   "outputs": [],
   "source": [
    "%matplotlib inline"
   ]
  },
  {
   "cell_type": "code",
   "execution_count": 11,
   "metadata": {
    "collapsed": true
   },
   "outputs": [],
   "source": [
    "traffic_hours = np.zeros(24)"
   ]
  },
  {
   "cell_type": "code",
   "execution_count": 12,
   "metadata": {
    "collapsed": true
   },
   "outputs": [],
   "source": [
    "traffic_hours[0:8] = 0.003"
   ]
  },
  {
   "cell_type": "code",
   "execution_count": 13,
   "metadata": {
    "collapsed": true
   },
   "outputs": [],
   "source": [
    "traffic_hours[8:] = (1 - 0.003*8)/16"
   ]
  },
  {
   "cell_type": "code",
   "execution_count": 14,
   "metadata": {},
   "outputs": [
    {
     "data": {
      "text/plain": [
       "array([ 0.003,  0.003,  0.003,  0.003,  0.003,  0.003,  0.003,  0.003,\n",
       "        0.061,  0.061,  0.061,  0.061,  0.061,  0.061,  0.061,  0.061,\n",
       "        0.061,  0.061,  0.061,  0.061,  0.061,  0.061,  0.061,  0.061])"
      ]
     },
     "execution_count": 14,
     "metadata": {},
     "output_type": "execute_result"
    }
   ],
   "source": [
    "traffic_hours"
   ]
  },
  {
   "cell_type": "code",
   "execution_count": 19,
   "metadata": {},
   "outputs": [
    {
     "data": {
      "text/plain": [
       "[<matplotlib.lines.Line2D at 0xa2328d0>]"
      ]
     },
     "execution_count": 19,
     "metadata": {},
     "output_type": "execute_result"
    },
    {
     "data": {
      "image/png": "[encoded data removed]",
      "text/plain": [
       "<matplotlib.figure.Figure at 0x9f2f860>"
      ]
     },
     "metadata": {},
     "output_type": "display_data"
    }
   ],
   "source": [
    "plt.plot(traffic_hours)"
   ]
  },
  {
   "cell_type": "markdown",
   "metadata": {
    "collapsed": true
   },
   "source": [
    "输入：闲时功耗，忙时功耗，断电时刻，断电时长，电池电量\n",
    "\n",
    "输出：输出电池工作了多少小时"
   ]
  },
  {
   "cell_type": "code",
   "execution_count": 19,
   "metadata": {
    "collapsed": true
   },
   "outputs": [],
   "source": [
    "def outage_power(lazy_power,busy_power,time_set, hours_length):\n",
    "    \"\"\"\n",
    "    只区分忙时和闲时的功耗不同，不考虑节能策略\n",
    "    其中忙时按照8点-24点来定义\n",
    "    \"\"\"    \n",
    "    x1 = time_set\n",
    "    x2 = time_set + hours_length\n",
    "    if x1 < 8:\n",
    "        if x2 < 8 :\n",
    "            y = (x2 - x1)*lazy_power\n",
    "        elif (x2 >= 8) and (x2 <24):\n",
    "            y = (8 - x1)*lazy_power + (x2 - 8)*busy_power\n",
    "        else:\n",
    "            y = (8 - x1)*lazy_power + 16 * busy_power + x2 * (x2-24)*lazy_power\n",
    "    else:\n",
    "        if x2 < 24 :\n",
    "            y = (x2 - x1)*busy_power\n",
    "        elif (x2 >= 24) and (x2 < 32):\n",
    "            y = (24 - x1)*busy_power + (x2 - 24)*lazy_power\n",
    "        else:\n",
    "            y = (24 - x1)*busy_power + 8 * lazy_power + (x2-32)*busy_power\n",
    "    \n",
    "    return y           \n"
   ]
  },
  {
   "cell_type": "code",
   "execution_count": 42,
   "metadata": {
    "collapsed": true
   },
   "outputs": [],
   "source": [
    "time_set = 23\n",
    "hours_length = 24\n",
    "lazy_power = 10\n",
    "busy_power = 1000"
   ]
  },
  {
   "cell_type": "code",
   "execution_count": 43,
   "metadata": {
    "scrolled": true
   },
   "outputs": [
    {
     "data": {
      "text/plain": [
       "16080"
      ]
     },
     "execution_count": 43,
     "metadata": {},
     "output_type": "execute_result"
    }
   ],
   "source": [
    "power_need = outage_power(lazy_power,busy_power,time_set, hours_length)\n",
    "power_need"
   ]
  },
  {
   "cell_type": "markdown",
   "metadata": {},
   "source": [
    "可以根据不同的策略，调整下面的函数"
   ]
  },
  {
   "cell_type": "code",
   "execution_count": 54,
   "metadata": {
    "collapsed": true
   },
   "outputs": [],
   "source": [
    "def battery_run(lazy_power,busy_power,time_set, hours_length,battery_capacity):\n",
    "    now_time = time_set\n",
    "    \n",
    "    while (battery_capacity > 0 and hours_length>0):\n",
    "        now_time = now_time + 1/60\n",
    "        hours_length = hours_length - 1/60\n",
    "        if now_time < 8:\n",
    "            battery_capacity = battery_capacity - lazy_power/60\n",
    "        else:\n",
    "            battery_capacity = battery_capacity - busy_power/60 \n",
    "    \n",
    "    return hours_length+ 1/60  \n",
    "    \n",
    "    \n",
    "    "
   ]
  },
  {
   "cell_type": "code",
   "execution_count": 61,
   "metadata": {
    "collapsed": true
   },
   "outputs": [],
   "source": [
    "time_set = 0\n",
    "hours_length = 24\n",
    "lazy_power = 10\n",
    "busy_power = 1000\n",
    "battery_capacity = 1000"
   ]
  },
  {
   "cell_type": "code",
   "execution_count": 62,
   "metadata": {},
   "outputs": [
    {
     "data": {
      "text/plain": [
       "8.916666666666258"
      ]
     },
     "execution_count": 62,
     "metadata": {},
     "output_type": "execute_result"
    }
   ],
   "source": [
    "out_time = battery_run(lazy_power,busy_power,time_set, hours_length,battery_capacity)\n",
    "hours_length - out_time"
   ]
  },
  {
   "cell_type": "code",
   "execution_count": null,
   "metadata": {
    "collapsed": true
   },
   "outputs": [],
   "source": []
  }
 ],
 "metadata": {
  "kernelspec": {
   "display_name": "Python 3",
   "language": "python",
   "name": "python3"
  },
  "language_info": {
   "codemirror_mode": {
    "name": "ipython",
    "version": 3
   },
   "file_extension": ".py",
   "mimetype": "text/x-python",
   "name": "python",
   "nbconvert_exporter": "python",
   "pygments_lexer": "ipython3",
   "version": "3.5.4"
  }
 },
 "nbformat": 4,
 "nbformat_minor": 2
}
