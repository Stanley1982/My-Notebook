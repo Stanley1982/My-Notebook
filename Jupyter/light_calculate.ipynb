{
 "cells": [
  {
   "cell_type": "markdown",
   "metadata": {
    "collapsed": true
   },
   "source": []
  },
  {
   "cell_type": "code",
   "execution_count": 125,
   "metadata": {
    "collapsed": true
   },
   "outputs": [],
   "source": [
    "import numpy as np\n",
    "import pandas as pd\n",
    "import matplotlib.pyplot as plt\n",
    "plt.rcParams['font.sans-serif']=['SimHei'] #用来正常显示中文标签\n",
    "plt.rcParams['axes.unicode_minus']=False #用来正常显示负号"
   ]
  },
  {
   "cell_type": "code",
   "execution_count": 126,
   "metadata": {
    "collapsed": true
   },
   "outputs": [],
   "source": [
    "%matplotlib inline"
   ]
  },
  {
   "cell_type": "code",
   "execution_count": 127,
   "metadata": {
    "collapsed": true
   },
   "outputs": [],
   "source": [
    "def line_r(line_length):\n",
    "    '''\n",
    "    根据电导率计算线电阻\n",
    "    \n",
    "    '''    \n",
    "    copper = 0.0000000175\n",
    "    square = 0.000025\n",
    "    r = copper/square*line_length\n",
    "    return r   "
   ]
  },
  {
   "cell_type": "code",
   "execution_count": 128,
   "metadata": {
    "collapsed": true
   },
   "outputs": [],
   "source": [
    "file_dir = \"F:\\\\00 Sphinx Work\\\\电力估算\\\\\"\n",
    "file_name = 'input.csv'"
   ]
  },
  {
   "cell_type": "code",
   "execution_count": 129,
   "metadata": {
    "collapsed": true
   },
   "outputs": [],
   "source": [
    "data = pd.read_csv(file_dir+file_name)"
   ]
  },
  {
   "cell_type": "code",
   "execution_count": 130,
   "metadata": {
    "collapsed": true
   },
   "outputs": [],
   "source": [
    "I = np.zeros(data.shape[0]+1)\n",
    "U = np.zeros(data.shape[0]+1)\n",
    "i = np.zeros(data.shape[0]+1)\n",
    "x = np.arange(0,data.shape[0]+1)"
   ]
  },
  {
   "cell_type": "code",
   "execution_count": 131,
   "metadata": {
    "collapsed": true
   },
   "outputs": [],
   "source": [
    "u_start = 240\n",
    "i_start = data.power.sum()/u_start\n",
    "v_base = np.ones(x.shape[0])*200"
   ]
  },
  {
   "cell_type": "code",
   "execution_count": 132,
   "metadata": {
    "collapsed": true
   },
   "outputs": [],
   "source": [
    "U[0] = u_start\n",
    "i[0] = 0"
   ]
  },
  {
   "cell_type": "code",
   "execution_count": 133,
   "metadata": {},
   "outputs": [
    {
     "data": {
      "text/plain": [
       "20.0"
      ]
     },
     "execution_count": 133,
     "metadata": {},
     "output_type": "execute_result"
    }
   ],
   "source": [
    "i_start"
   ]
  },
  {
   "cell_type": "code",
   "execution_count": 134,
   "metadata": {
    "collapsed": true
   },
   "outputs": [],
   "source": [
    "for m in range (data.shape[0]):       \n",
    "    total_power = data.power[m:].sum()    \n",
    "    a = 1\n",
    "    b = -U[m]/2/line_r(data.length[m])\n",
    "    c = data.power[m:].sum()    \n",
    "    p = np.poly1d([a,b,c])      \n",
    "    \n",
    "    I[m] = p.r.min()\n",
    "    \n",
    "    if m == 0 :\n",
    "        if I[m] < i_start:\n",
    "            U[m+1] = U[m] - I[m] * line_r(data.length[m])\n",
    "           \n",
    "            i[m+1] = data.power[m]/U[m+1]\n",
    "  \n",
    "    else:\n",
    "        if I[m] < I[m-1] :\n",
    "            U[m+1] = U[m] - I[m] * line_r(data.length[m])\n",
    "            U[m+1] = U[m+1]*0.98\n",
    "            i[m+1] = data.power[m]/U[m+1]\n",
    "            if i[m+1] > I[m]:\n",
    "                U[m+1] = U[m]\n",
    "                i[m+1] = 0                          \n",
    "\n",
    "        else:\n",
    "            U[m+1] = U[m]\n",
    "            i[m+1] = 0\n",
    "     "
   ]
  },
  {
   "cell_type": "code",
   "execution_count": 140,
   "metadata": {
    "collapsed": true
   },
   "outputs": [],
   "source": [
    "m=0      \n",
    "total_power = data.power[m:].sum()    \n",
    "a = 1\n",
    "b = -U[m]/2/line_r(data.length[m])\n",
    "c = data.power[m:].sum()    \n",
    "p = np.poly1d([a,b,c])      \n",
    "\n",
    "I[m] = p.r.min()"
   ]
  },
  {
   "cell_type": "code",
   "execution_count": 141,
   "metadata": {},
   "outputs": [
    {
     "data": {
      "text/plain": [
       "array([  1.71425771e+04,   2.80004573e-01])"
      ]
     },
     "execution_count": 141,
     "metadata": {},
     "output_type": "execute_result"
    }
   ],
   "source": [
    "p.r"
   ]
  },
  {
   "cell_type": "code",
   "execution_count": 135,
   "metadata": {},
   "outputs": [
    {
     "data": {
      "image/png": "[encoded data removed]",
      "text/plain": [
       "<matplotlib.figure.Figure at 0xabecf98>"
      ]
     },
     "metadata": {},
     "output_type": "display_data"
    }
   ],
   "source": [
    "fig, ax = plt.subplots()\n",
    "fig_size = plt.gcf()\n",
    "fig_size.set_size_inches(12.5, 10.5)\n",
    "plt.xticks(fontsize=20)\n",
    "plt.yticks(fontsize=16)\n",
    "ax.plot(x,v_base,c = 'red')\n",
    "ax.set_xticks(x)\n",
    "ax.plot(x,U, 'o')\n",
    "ax.set_title('电压')\n",
    "plt.show()"
   ]
  },
  {
   "cell_type": "code",
   "execution_count": 136,
   "metadata": {
    "scrolled": true
   },
   "outputs": [
    {
     "data": {
      "text/plain": [
       "array([ 240.        ,  239.99803997,  239.99803997,  239.99803997,\n",
       "        239.99803997,  239.99803997,  239.99803997])"
      ]
     },
     "execution_count": 136,
     "metadata": {},
     "output_type": "execute_result"
    }
   ],
   "source": [
    "U"
   ]
  },
  {
   "cell_type": "code",
   "execution_count": 137,
   "metadata": {},
   "outputs": [
    {
     "data": {
      "text/plain": [
       "array([ 0.28000457,  3.1578789 ,  2.52504159,  1.89283694,  1.26126304,\n",
       "        0.63031802,  0.        ])"
      ]
     },
     "execution_count": 137,
     "metadata": {},
     "output_type": "execute_result"
    }
   ],
   "source": [
    "I"
   ]
  },
  {
   "cell_type": "code",
   "execution_count": 138,
   "metadata": {},
   "outputs": [
    {
     "data": {
      "text/plain": [
       "array([ 0.        ,  3.33336056,  0.        ,  0.        ,  0.        ,\n",
       "        0.        ,  0.        ])"
      ]
     },
     "execution_count": 138,
     "metadata": {},
     "output_type": "execute_result"
    }
   ],
   "source": [
    "i"
   ]
  },
  {
   "cell_type": "code",
   "execution_count": 139,
   "metadata": {},
   "outputs": [
    {
     "data": {
      "image/png": "[encoded data removed]",
      "text/plain": [
       "<matplotlib.figure.Figure at 0xaaa28d0>"
      ]
     },
     "metadata": {},
     "output_type": "display_data"
    }
   ],
   "source": [
    "fig, ax = plt.subplots()\n",
    "fig_size = plt.gcf()\n",
    "fig_size.set_size_inches(12.5, 10.5)\n",
    "plt.xticks(fontsize=20)\n",
    "plt.yticks(fontsize=16)\n",
    "ax.set_xticks(x)\n",
    "ax.plot(x,i, 'o')\n",
    "ax.set_title('电流')\n",
    "plt.show()"
   ]
  },
  {
   "cell_type": "code",
   "execution_count": null,
   "metadata": {
    "collapsed": true
   },
   "outputs": [],
   "source": []
  },
  {
   "cell_type": "code",
   "execution_count": null,
   "metadata": {
    "collapsed": true
   },
   "outputs": [],
   "source": []
  }
 ],
 "metadata": {
  "kernelspec": {
   "display_name": "Python 3",
   "language": "python",
   "name": "python3"
  },
  "language_info": {
   "codemirror_mode": {
    "name": "ipython",
    "version": 3
   },
   "file_extension": ".py",
   "mimetype": "text/x-python",
   "name": "python",
   "nbconvert_exporter": "python",
   "pygments_lexer": "ipython3",
   "version": "3.5.4"
  }
 },
 "nbformat": 4,
 "nbformat_minor": 2
}
